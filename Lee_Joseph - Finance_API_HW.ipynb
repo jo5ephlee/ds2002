{
  "nbformat": 4,
  "nbformat_minor": 0,
  "metadata": {
    "colab": {
      "provenance": []
    },
    "kernelspec": {
      "name": "python3",
      "display_name": "Python 3"
    },
    "language_info": {
      "name": "python"
    }
  },
  "cells": [
    {
      "cell_type": "code",
      "execution_count": 2,
      "metadata": {
        "colab": {
          "base_uri": "https://localhost:8080/"
        },
        "id": "2z_PX8ynrIx2",
        "outputId": "caa9d8c6-2e52-45b2-edfa-15ecb603d1ad"
      },
      "outputs": [
        {
          "output_type": "stream",
          "name": "stdout",
          "text": [
            "Enter stock symbols separated by a comma (e.g., AAPL,MSFT): aapl\n",
            "Stock Ticker: AAPL, Company: Apple Inc., Current Market Price: $240.36\n"
          ]
        }
      ],
      "source": [
        "#Task 1\n",
        "import pandas as pd\n",
        "import requests\n",
        "import json\n",
        "\n",
        "symbols = input(\"Enter stock symbols separated by a comma (e.g., AAPL,MSFT): \").strip()\n",
        "\n",
        "apikey = '' #insert API key here\n",
        "url = \"https://yfapi.net/v6/finance/quote\"\n",
        "headers = {'x-api-key': apikey}\n",
        "querystring = {\"symbols\": symbols}\n",
        "\n",
        "response = requests.get(url, headers=headers, params=querystring)\n",
        "data = response.json()\n",
        "\n",
        "for stock in data['quoteResponse']['result']:\n",
        "    print(f\"Stock Ticker: {stock['symbol']}, Company: {stock['shortName']}, Current Market Price: ${stock['regularMarketPrice']}\")\n"
      ]
    },
    {
      "cell_type": "code",
      "source": [
        "#Task 2.1\n",
        "apikey = ''  # insert API key here\n",
        "url_base = \"https://yfapi.net/v11/finance/quoteSummary/\"\n",
        "\n",
        "def fetch_stock_data(symbol, modules):\n",
        "    headers = {'x-api-key': apikey}\n",
        "    params = {\"modules\": ','.join(modules)}\n",
        "    response = requests.get(f\"{url_base}{symbol}\", headers=headers, params=params)\n",
        "    if response.status_code == 200:\n",
        "        data = response.json()\n",
        "        result = data['quoteSummary']['result'][0]\n",
        "        return {\n",
        "            \"Stock Ticker\": symbol,\n",
        "            \"52 Week High\": result['summaryDetail']['fiftyTwoWeekHigh']['raw'],\n",
        "            \"52 Week Low\": result['summaryDetail']['fiftyTwoWeekLow']['raw'],\n",
        "            \"Return on Assets (ROA)\": result['financialData']['returnOnAssets']['raw']\n",
        "        }\n",
        "    else:\n",
        "        print(f\"Failed to fetch data for {symbol}: {response.status_code}, {response.text}\")\n",
        "        return None\n",
        "\n",
        "stock_list = symbols.split(',')\n",
        "modules = ['summaryDetail', 'financialData']\n",
        "\n",
        "stock_data = [fetch_stock_data(stock.strip(), modules) for stock in stock_list if stock.strip()]\n",
        "\n",
        "df = pd.DataFrame(stock_data)\n",
        "\n",
        "print(df)\n"
      ],
      "metadata": {
        "colab": {
          "base_uri": "https://localhost:8080/"
        },
        "id": "tPsGaYXutntZ",
        "outputId": "0fdeadb0-b6af-4eaa-c03a-8cfab5f0bf19"
      },
      "execution_count": 3,
      "outputs": [
        {
          "output_type": "stream",
          "name": "stdout",
          "text": [
            "  Stock Ticker  52 Week High  52 Week Low  Return on Assets (ROA)\n",
            "0         aapl         260.1       164.08                 0.22519\n"
          ]
        }
      ]
    },
    {
      "cell_type": "code",
      "source": [
        "# Task 2.2\n",
        "apikey = ''  # insert API key here\n",
        "headers = {'x-api-key': apikey}\n",
        "trending_url = \"https://yfapi.net/v1/finance/trending/US\"\n",
        "\n",
        "response = requests.get(trending_url, headers=headers)\n",
        "trending_stocks = []\n",
        "\n",
        "if response.status_code == 200:\n",
        "    stocks = response.json().get('finance', {}).get('result', [{}])[0].get('quotes', [])\n",
        "    for stock in stocks:\n",
        "        symbol = stock.get('symbol')\n",
        "        stock_response = requests.get(\"https://yfapi.net/v6/finance/quote\", headers=headers, params={\"symbols\": symbol})\n",
        "        if stock_response.status_code == 200:\n",
        "            stock_info = stock_response.json().get('quoteResponse', {}).get('result', [{}])[0]\n",
        "            trending_stocks.append({\n",
        "                \"Stock Ticker\": stock_info.get('symbol', 'N/A'),\n",
        "                \"Company Name\": stock_info.get('longName', 'N/A'),\n",
        "                \"Current Price\": f\"${stock_info.get('regularMarketPrice', 'N/A'):,.2f}\",\n",
        "                \"52 Week High\": f\"${stock_info.get('fiftyTwoWeekHigh', 'N/A'):,.2f}\",\n",
        "                \"52 Week Low\": f\"${stock_info.get('fiftyTwoWeekLow', 'N/A'):,.2f}\"\n",
        "            })\n",
        "\n",
        "# Display the data\n",
        "trending_df = pd.DataFrame(trending_stocks)\n",
        "print(trending_df)\n"
      ],
      "metadata": {
        "colab": {
          "base_uri": "https://localhost:8080/"
        },
        "id": "C9vL-i1Szta9",
        "outputId": "eccf00a6-272e-4f67-ce67-6b599532f7a3"
      },
      "execution_count": 7,
      "outputs": [
        {
          "output_type": "stream",
          "name": "stdout",
          "text": [
            "   Stock Ticker                          Company Name Current Price  \\\n",
            "0          NVDA                    NVIDIA Corporation       $131.28   \n",
            "1           CRM                      Salesforce, Inc.       $307.33   \n",
            "2          SNOW                        Snowflake Inc.       $166.19   \n",
            "3          IONQ                            IonQ, Inc.        $29.93   \n",
            "4          BYND                     Beyond Meat, Inc.         $3.56   \n",
            "5           APP                  AppLovin Corporation       $331.00   \n",
            "6           NIO                              NIO Inc.         $4.72   \n",
            "7          MRNA                         Moderna, Inc.        $33.58   \n",
            "8          TDOC                  Teladoc Health, Inc.        $10.99   \n",
            "9          MARA                   MARA Holdings, Inc.        $12.45   \n",
            "10           AI                           C3.ai, Inc.        $26.44   \n",
            "11         NTNX                         Nutanix, Inc.        $69.35   \n",
            "12         EBAY                             eBay Inc.        $69.14   \n",
            "13         OTLY                        Oatly Group AB         $8.08   \n",
            "14          PBR  Petróleo Brasileiro S.A. - Petrobras        $14.32   \n",
            "15         MULN               Mullen Automotive, Inc.         $4.04   \n",
            "16          AAP              Advance Auto Parts, Inc.        $37.70   \n",
            "17         ROOT                            Root, Inc.        $98.71   \n",
            "18           ZI            ZoomInfo Technologies Inc.        $11.73   \n",
            "19         PSTG                    Pure Storage, Inc.        $62.44   \n",
            "\n",
            "   52 Week High 52 Week Low  \n",
            "0       $153.13      $75.61  \n",
            "1       $369.00     $212.00  \n",
            "2       $194.40     $107.13  \n",
            "3        $54.74       $6.22  \n",
            "4        $11.70       $3.30  \n",
            "5       $525.15      $57.40  \n",
            "6         $7.71       $3.61  \n",
            "7       $170.47      $29.25  \n",
            "8        $15.95       $6.76  \n",
            "9        $30.71      $12.05  \n",
            "10       $45.08      $18.85  \n",
            "11       $75.80      $43.35  \n",
            "12       $71.61      $46.98  \n",
            "13       $26.80       $6.00  \n",
            "14       $17.44      $12.55  \n",
            "15   $47,100.00       $2.29  \n",
            "16       $88.56      $35.59  \n",
            "17      $141.23      $27.24  \n",
            "18       $17.13       $7.65  \n",
            "19       $73.67      $44.76  \n"
          ]
        }
      ]
    }
  ]
}